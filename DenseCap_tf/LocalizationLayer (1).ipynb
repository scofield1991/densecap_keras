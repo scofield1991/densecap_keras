{
 "cells": [
  {
   "cell_type": "code",
   "execution_count": 2,
   "metadata": {
    "collapsed": false
   },
   "outputs": [
    {
     "name": "stdout",
     "output_type": "stream",
     "text": [
      "/home/alex/DenseCap/DenseCap_tf\n"
     ]
    }
   ],
   "source": [
    "%cd ../DenseCap_tf/"
   ]
  },
  {
   "cell_type": "code",
   "execution_count": 3,
   "metadata": {
    "collapsed": false
   },
   "outputs": [],
   "source": [
    "import tensorflow as tf\n",
    "import numpy as np\n",
    "\n",
    "import keras\n",
    "import keras.backend as K\n",
    "from keras.applications.vgg16 import VGG16\n",
    "from keras.preprocessing import image\n",
    "from keras.applications.imagenet_utils import preprocess_input\n",
    "from keras.models import Model\n",
    "from keras.layers import Convolution2D, Lambda, Merge\n",
    "import MakeAnchors, ReshapeBoxFeatures, ApplyBoxTransform"
   ]
  },
  {
   "cell_type": "code",
   "execution_count": 3,
   "metadata": {
    "collapsed": true
   },
   "outputs": [],
   "source": [
    "# load vgg16 model\n",
    "base_model = VGG16(weights='imagenet')\n",
    "model = Model(input=base_model.input, output=base_model.get_layer('block5_conv3').output)"
   ]
  },
  {
   "cell_type": "code",
   "execution_count": 4,
   "metadata": {
    "collapsed": true
   },
   "outputs": [],
   "source": [
    "# load random image\n",
    "img_path = '/home/alex/FasterRCNN/py-faster-rcnn/data/demo/000456.jpg'\n",
    "img = image.load_img(img_path, target_size=(224, 224))\n",
    "x = image.img_to_array(img)\n",
    "x = np.expand_dims(x, axis=0)\n",
    "x = preprocess_input(x)"
   ]
  },
  {
   "cell_type": "code",
   "execution_count": 5,
   "metadata": {
    "collapsed": false
   },
   "outputs": [],
   "source": [
    "# Create RPN with  Keras api\n",
    "rpn = model(x)"
   ]
  },
  {
   "cell_type": "code",
   "execution_count": 6,
   "metadata": {
    "collapsed": false
   },
   "outputs": [
    {
     "data": {
      "text/plain": [
       "<tf.Tensor 'Relu_27:0' shape=(1, 14, 14, 512) dtype=float32>"
      ]
     },
     "execution_count": 6,
     "metadata": {},
     "output_type": "execute_result"
    }
   ],
   "source": [
    "rpn"
   ]
  },
  {
   "cell_type": "code",
   "execution_count": 7,
   "metadata": {
    "collapsed": true
   },
   "outputs": [],
   "source": [
    "# RPN Conv layer parameters\n",
    "rpn_num_filters = 256\n",
    "rpn_filter_size = 3\n",
    "std = 0.01\n",
    "\n",
    "# Add an extra conv layer and a ReLU\n",
    "rpn = Convolution2D(rpn_num_filters, rpn_filter_size, rpn_filter_size, activation='relu',\n",
    "                      border_mode='same', init='normal')(rpn)"
   ]
  },
  {
   "cell_type": "code",
   "execution_count": 8,
   "metadata": {
    "collapsed": false
   },
   "outputs": [
    {
     "data": {
      "text/plain": [
       "<tf.Tensor 'Relu_28:0' shape=(1, 14, 14, 256) dtype=float32>"
      ]
     },
     "execution_count": 8,
     "metadata": {},
     "output_type": "execute_result"
    }
   ],
   "source": [
    "rpn"
   ]
  },
  {
   "cell_type": "code",
   "execution_count": 9,
   "metadata": {
    "collapsed": false
   },
   "outputs": [],
   "source": [
    "# Set up anchor sizes\n",
    "anchors = np.array([[45, 90], [90, 45], [64, 64],\n",
    "                   [90, 180], [180, 90], [128, 128],\n",
    "                   [181, 362], [362, 181], [256, 256],\n",
    "                    [362, 724], [724, 362], [512, 512]]).T\n",
    "\n",
    "num_anchors = anchors.shape[1]"
   ]
  },
  {
   "cell_type": "code",
   "execution_count": 10,
   "metadata": {
    "collapsed": false
   },
   "outputs": [],
   "source": [
    "# Branch to produce box coordinates for each anchor\n",
    "# This branch will return {boxes, {anchors, transforms}}\n",
    "# Box branch Conv layer parameters\n",
    "box_input_shape = 14, 14, 256\n",
    "box_num_filters = 4 * num_anchors\n",
    "box_filter_size = 1\n",
    "\n",
    "box_branch = Convolution2D(box_num_filters, box_filter_size, box_filter_size, \n",
    "                             border_mode='valid', init='normal')(rpn)"
   ]
  },
  {
   "cell_type": "code",
   "execution_count": 11,
   "metadata": {
    "collapsed": false
   },
   "outputs": [
    {
     "data": {
      "text/plain": [
       "<tf.Tensor 'add_30:0' shape=(1, 14, 14, 48) dtype=float32>"
      ]
     },
     "execution_count": 11,
     "metadata": {},
     "output_type": "execute_result"
    }
   ],
   "source": [
    "box_branch"
   ]
  },
  {
   "cell_type": "code",
   "execution_count": 12,
   "metadata": {
    "collapsed": false
   },
   "outputs": [],
   "source": [
    "# Branch to make anchors\n",
    "make_anchors_branch = Lambda(MakeAnchors.make_anchors)(box_branch)\n",
    "make_anchors_branch = ReshapeBoxFeatures.ReshapeBoxFeatures(num_anchors)(make_anchors_branch)"
   ]
  },
  {
   "cell_type": "code",
   "execution_count": 13,
   "metadata": {
    "collapsed": false
   },
   "outputs": [],
   "source": [
    "# Intermediate layer, just to reshape a tensor for ReshapeBoxFeatures layer\n",
    "def tensor_reshape(tensor):\n",
    "    tensor_shape = tensor.get_shape().as_list()\n",
    "    return K.reshape(tensor,\n",
    "                     [tensor_shape[0], tensor_shape[3], tensor_shape[1], tensor_shape[2]])"
   ]
  },
  {
   "cell_type": "code",
   "execution_count": 14,
   "metadata": {
    "collapsed": false
   },
   "outputs": [],
   "source": [
    "# Branch that creates offsets for boxes, cannot understand how it works\n",
    "reshape_boxes_branch = Lambda(tensor_reshape)(box_branch)\n",
    "reshape_boxes_branch = ReshapeBoxFeatures.ReshapeBoxFeatures(num_anchors)(reshape_boxes_branch)"
   ]
  },
  {
   "cell_type": "code",
   "execution_count": 15,
   "metadata": {
    "collapsed": true
   },
   "outputs": [],
   "source": [
    "# Merge make_anchors_branch and reshape_boxes_branch together into box_branch\n",
    "box_branch = Merge(\n",
    "    mode=lambda x: tf.stack(x)\n",
    "                         )([make_anchors_branch, reshape_boxes_branch])"
   ]
  },
  {
   "cell_type": "code",
   "execution_count": 16,
   "metadata": {
    "collapsed": false
   },
   "outputs": [
    {
     "data": {
      "text/plain": [
       "<tf.Tensor 'stack:0' shape=(2, 2352, 4) dtype=float32>"
      ]
     },
     "execution_count": 16,
     "metadata": {},
     "output_type": "execute_result"
    }
   ],
   "source": [
    "box_branch"
   ]
  },
  {
   "cell_type": "code",
   "execution_count": 17,
   "metadata": {
    "collapsed": false
   },
   "outputs": [],
   "source": [
    "# Apply adjustments to bounding boxes for bounding box regression\n",
    "box_branch = ApplyBoxTransform.ApplyBoxTransform()(box_branch)"
   ]
  },
  {
   "cell_type": "code",
   "execution_count": 18,
   "metadata": {
    "collapsed": false
   },
   "outputs": [
    {
     "data": {
      "text/plain": [
       "<tf.Tensor 'Reshape_32:0' shape=(2352, 4) dtype=float32>"
      ]
     },
     "execution_count": 18,
     "metadata": {},
     "output_type": "execute_result"
    }
   ],
   "source": [
    "box_branch"
   ]
  },
  {
   "cell_type": "code",
   "execution_count": 19,
   "metadata": {
    "collapsed": false
   },
   "outputs": [],
   "source": [
    "# Branch to produce box / not box scores for each anchor\n",
    "box_num_filters = 2 * num_anchors\n",
    "box_filter_size = 1\n",
    "\n",
    "rpn_branch = Convolution2D(box_num_filters, box_filter_size, box_filter_size, \n",
    "                             border_mode='valid', init='normal')(rpn)\n",
    "rpn_branch = Lambda(tensor_reshape)(rpn_branch)\n",
    "rpn_branch = ReshapeBoxFeatures.ReshapeBoxFeatures(num_anchors)(rpn_branch)"
   ]
  },
  {
   "cell_type": "code",
   "execution_count": 20,
   "metadata": {
    "collapsed": false
   },
   "outputs": [
    {
     "data": {
      "text/plain": [
       "<tf.Tensor 'Reshape_35:0' shape=(2352, 2) dtype=float32>"
      ]
     },
     "execution_count": 20,
     "metadata": {},
     "output_type": "execute_result"
    }
   ],
   "source": [
    "rpn_branch"
   ]
  },
  {
   "cell_type": "code",
   "execution_count": 4,
   "metadata": {
    "collapsed": false
   },
   "outputs": [
    {
     "name": "stdout",
     "output_type": "stream",
     "text": [
      "WARNING:tensorflow:From <ipython-input-4-6921f3ea5257>:2 in <module>.: initialize_all_variables (from tensorflow.python.ops.variables) is deprecated and will be removed after 2017-03-02.\n",
      "Instructions for updating:\n",
      "Use `tf.global_variables_initializer` instead.\n"
     ]
    }
   ],
   "source": [
    "sess = tf.InteractiveSession()\n",
    "tf.initialize_all_variables().run()"
   ]
  },
  {
   "cell_type": "code",
   "execution_count": 5,
   "metadata": {
    "collapsed": true
   },
   "outputs": [],
   "source": [
    "def IoU(input_x):\n",
    "    box_1 = input_x[0]\n",
    "    box_2 = input_x[1]\n",
    "    \n",
    "    box_1_shape = box_1.get_shape().as_list()\n",
    "    box_2_shape = box_2.get_shape().as_list()\n",
    "    N, B1, B2 = box_1_shape[0], box_1_shape[1], box_2_shape[1]\n",
    "    \n",
    "    area_1 = box_1[:, :, 2] * box_1[:, :, 3]\n",
    "    area_2 = box_2[:, :, 2] * box_2[:, :, 3]\n",
    "    area_1_reshaped = tf.reshape(area_1, [N, B1, 1])\n",
    "    area_2_reshaped = tf.reshape(area_2, [N, 1, B2])\n",
    "    area_1_expand = tf.tile(area_1_reshaped, [1, 1, B2])\n",
    "    area_2_expand = tf.tile(area_2_reshaped, [1, B1, 1])\n",
    "    \n",
    "    box1_lohi = xcycwh_to_x1y1x2y2(box_1)\n",
    "    box2_lohi = xcycwh_to_x1y1x2y2(box_2)\n",
    "    box1_lohi_reshaped = tf.reshape(box1_lohi, [N, B1, 1, 4 ])\n",
    "    box2_lohi_reshaped = tf.reshape(box2_lohi, [N, 1, B2, 4 ])\n",
    "    box1_lohi_expand = tf.tile(box1_lohi_reshaped, [1, 1, B2, 1])\n",
    "    box2_lohi_expand = tf.tile(box2_lohi_reshaped, [1, B1, 1, 1])\n",
    "    \n",
    "    x0 = tf.maximum(box1_lohi_expand[...,0], box2_lohi_expand[...,0])\n",
    "    y0 = tf.maximum(box1_lohi_expand[...,1], box2_lohi_expand[...,1])\n",
    "    x1 = tf.minimum(box1_lohi_expand[...,2], box2_lohi_expand[...,2])\n",
    "    y1 = tf.minimum(box1_lohi_expand[...,3], box2_lohi_expand[...,3])\n",
    "    \n",
    "    w = tf.maximum(x1 - x0, 0)\n",
    "    h = tf.maximum(y1 - y0, 0)\n",
    "    \n",
    "    intersection = w * h\n",
    "    output = tf.add(area_1_expand, (intersection * (-1)))\n",
    "    output = tf.pow(tf.add(output, area_2_expand), -1) * intersection\n",
    "    \n",
    "    return output"
   ]
  },
  {
   "cell_type": "code",
   "execution_count": 6,
   "metadata": {
    "collapsed": true
   },
   "outputs": [],
   "source": [
    "def xcycwh_to_x1y1x2y2(boxes):\n",
    "    xc, yc, w, h = boxes[..., 0], boxes[..., 1], boxes[..., 2], boxes[..., 3]\n",
    "    \n",
    "    x0 = tf.div(tf.add(w, -1), 2.0) * (-1) + xc\n",
    "    x1 = tf.div(tf.add(w, -1), 2.0) + xc\n",
    "    y0 = tf.div(tf.add(h, -1), 2.0) * (-1) + yc\n",
    "    y1 = tf.div(tf.add(h, -1), 2.0) + yc\n",
    "    \n",
    "    return tf.stack([x0, y0, x1, y1], axis=2)"
   ]
  },
  {
   "cell_type": "code",
   "execution_count": 7,
   "metadata": {
    "collapsed": false
   },
   "outputs": [],
   "source": [
    "boxes_1 = tf.constant([[2, 4, 2, 6], [5, 7.5, 2, 5]], shape=(1, 2, 4))\n",
    "boxes_2 = tf.constant([[5, 8, 4, 2], [4.5, 4.5, 5, 3], [4.5, 0, 5, 4]], shape=(1, 3, 4))"
   ]
  },
  {
   "cell_type": "code",
   "execution_count": 8,
   "metadata": {
    "collapsed": false
   },
   "outputs": [],
   "source": [
    "#N, B1, B2 = boxes_1_shape[0], boxes_1_shape[1], boxes_2_shape[1]\n",
    "boxes_1_shape = boxes_1.get_shape().as_list()\n",
    "boxes_2_shape = boxes_2.get_shape().as_list()"
   ]
  },
  {
   "cell_type": "code",
   "execution_count": null,
   "metadata": {
    "collapsed": false
   },
   "outputs": [],
   "source": [
    ""
   ]
  },
  {
   "cell_type": "code",
   "execution_count": 9,
   "metadata": {
    "collapsed": false
   },
   "outputs": [
    {
     "ename": "NameError",
     "evalue": "name 'N' is not defined",
     "traceback": [
      "\u001b[0;31m---------------------------------------------------------------------------\u001b[0m",
      "\u001b[0;31mNameError\u001b[0m                                 Traceback (most recent call last)",
      "\u001b[0;32m<ipython-input-9-fa126fac59cc>\u001b[0m in \u001b[0;36m<module>\u001b[0;34m()\u001b[0m\n\u001b[0;32m----> 1\u001b[0;31m \u001b[0mN\u001b[0m\u001b[0;34m,\u001b[0m \u001b[0mB1\u001b[0m\u001b[0;34m,\u001b[0m \u001b[0mB2\u001b[0m\u001b[0;34m\u001b[0m\u001b[0m\n\u001b[0m",
      "\u001b[0;31mNameError\u001b[0m: name 'N' is not defined"
     ],
     "output_type": "error"
    }
   ],
   "source": [
    "N, B1, B2"
   ]
  },
  {
   "cell_type": "code",
   "execution_count": 10,
   "metadata": {
    "collapsed": false
   },
   "outputs": [],
   "source": [
    "ious = IoU([boxes_1, boxes_2])"
   ]
  },
  {
   "cell_type": "code",
   "execution_count": 11,
   "metadata": {
    "collapsed": false
   },
   "outputs": [],
   "source": [
    "input_max_iou = tf.reduce_max(ious, reduction_indices=[2])\n",
    "input_idx = tf.arg_max(ious, dimension=2)\n",
    "target_max_iou = tf.reduce_max(ious, reduction_indices=[1])\n",
    "target_idx = tf.arg_max(ious, dimension=1)"
   ]
  },
  {
   "cell_type": "code",
   "execution_count": 12,
   "metadata": {
    "collapsed": false
   },
   "outputs": [
    {
     "data": {
      "text/plain": [
       "array([[ 0.        ,  0.05882353]], dtype=float32)"
      ]
     },
     "execution_count": 12,
     "metadata": {},
     "output_type": "execute_result"
    }
   ],
   "source": [
    "input_max_iou.eval()"
   ]
  },
  {
   "cell_type": "code",
   "execution_count": 13,
   "metadata": {
    "collapsed": false
   },
   "outputs": [],
   "source": [
    "high_thresh = 0.05\n",
    "low_thresh = 0.02\n",
    "batch_size = 256"
   ]
  },
  {
   "cell_type": "code",
   "execution_count": 38,
   "metadata": {
    "collapsed": false
   },
   "outputs": [],
   "source": [
    "pos_mask = (input_max_iou > high_thresh)\n",
    "neg_mask = (input_max_iou < low_thresh)"
   ]
  },
  {
   "cell_type": "code",
   "execution_count": 39,
   "metadata": {
    "collapsed": false
   },
   "outputs": [],
   "source": [
    "x_min, x_max, y_min, y_max = -1, 9, -9, 8"
   ]
  },
  {
   "cell_type": "code",
   "execution_count": 40,
   "metadata": {
    "collapsed": false
   },
   "outputs": [],
   "source": [
    "boxes_x1y1x2y2 = xcycwh_to_x1y1x2y2(boxes_1)"
   ]
  },
  {
   "cell_type": "code",
   "execution_count": 41,
   "metadata": {
    "collapsed": false
   },
   "outputs": [],
   "source": [
    "x_min_mask = (boxes_x1y1x2y2[...,0] < x_min)\n",
    "y_min_mask = (boxes_x1y1x2y2[...,1] < y_min)\n",
    "x_max_mask = (boxes_x1y1x2y2[...,2] > x_max)\n",
    "y_max_mask = (boxes_x1y1x2y2[...,3] > y_max)"
   ]
  },
  {
   "cell_type": "code",
   "execution_count": 42,
   "metadata": {
    "collapsed": false
   },
   "outputs": [],
   "source": [
    "mask_shape = pos_mask.get_shape()\n",
    "\n",
    "pos_mask_false = tf.constant(value=False, shape=mask_shape)\n",
    "neg_mask_false = tf.constant(value=False, shape=mask_shape)\n",
    "\n",
    "pos_mask_true = tf.constant(value=True, shape=(mask_shape[1],))\n",
    "neg_mask_true = tf.constant(value=False, shape=(mask_shape[1],))"
   ]
  },
  {
   "cell_type": "code",
   "execution_count": 43,
   "metadata": {
    "collapsed": true
   },
   "outputs": [],
   "source": [
    "pos_mask = tf.select(x_min_mask, pos_mask_false, pos_mask)\n",
    "pos_mask = tf.select(y_min_mask, pos_mask_false, pos_mask)\n",
    "pos_mask = tf.select(x_max_mask, pos_mask_false, pos_mask)\n",
    "pos_mask = tf.select(y_max_mask, pos_mask_false, pos_mask)\n",
    "neg_mask = tf.select(x_min_mask, neg_mask_false, neg_mask)\n",
    "neg_mask = tf.select(y_min_mask, neg_mask_false, neg_mask)\n",
    "neg_mask = tf.select(x_max_mask, neg_mask_false, neg_mask)\n",
    "neg_mask = tf.select(y_max_mask, neg_mask_false, neg_mask)\n",
    "#tf.select(y_max_mask, neg_mask_false, neg_mask).eval()"
   ]
  },
  {
   "cell_type": "code",
   "execution_count": 44,
   "metadata": {
    "collapsed": false
   },
   "outputs": [
    {
     "data": {
      "text/plain": [
       "'\\ntarget_idx_cutted = target_idx[0,:mask_shape.as_list()[1]]\\n\\npos_mask = tf.Variable(initial_value=pos_mask, trainable=False)\\nneg_mask = tf.Variable(initial_value=neg_mask, trainable=False)\\n\\npos_mask = tf.scatter_update(pos_mask, target_idx_cutted, pos_mask_true)\\nneg_mask = tf.scatter_update(neg_mask, target_idx_cutted, neg_mask_false[0,:])\\n'"
      ]
     },
     "execution_count": 44,
     "metadata": {},
     "output_type": "execute_result"
    }
   ],
   "source": [
    "# Count as positive each input box that has maximal IoU with each target box,\n",
    "# even if it is outside the bounds or does not meet the thresholds.\n",
    "# This is important since things will crash if we don't have at least one\n",
    "# positive box.\n",
    "# Make it currently optioanal because things become too complicated\n",
    "\n",
    "pos_mask = tf.reshape(pos_mask, [mask_shape.as_list()[1]])\n",
    "neg_mask = tf.reshape(neg_mask, [mask_shape.as_list()[1]])\n",
    "\n",
    "\"\"\"\n",
    "target_idx_cutted = target_idx[0,:mask_shape.as_list()[1]]\n",
    "\n",
    "pos_mask = tf.Variable(initial_value=pos_mask, trainable=False)\n",
    "neg_mask = tf.Variable(initial_value=neg_mask, trainable=False)\n",
    "\n",
    "pos_mask = tf.scatter_update(pos_mask, target_idx_cutted, pos_mask_true)\n",
    "neg_mask = tf.scatter_update(neg_mask, target_idx_cutted, neg_mask_false[0,:])\n",
    "\"\"\""
   ]
  },
  {
   "cell_type": "code",
   "execution_count": 30,
   "metadata": {
    "collapsed": false
   },
   "outputs": [],
   "source": [
    "#neg_mask = tf.cast(neg_mask, tf.int32)\n",
    "#pos_mask = tf.cast(pos_mask, tf.int32)"
   ]
  },
  {
   "cell_type": "code",
   "execution_count": 45,
   "metadata": {
    "collapsed": false
   },
   "outputs": [
    {
     "data": {
      "text/plain": [
       "array([ True, False], dtype=bool)"
      ]
     },
     "execution_count": 45,
     "metadata": {},
     "output_type": "execute_result"
    }
   ],
   "source": [
    "neg_mask.eval()"
   ]
  },
  {
   "cell_type": "code",
   "execution_count": 85,
   "metadata": {
    "collapsed": false
   },
   "outputs": [],
   "source": [
    "# Indices of boxes\n",
    "pos_mask_nonzero = tf.reshape(tf.where(pos_mask), [-1])\n",
    "neg_mask_nonzero = tf.reshape(tf.where(neg_mask), [-1])"
   ]
  },
  {
   "cell_type": "code",
   "execution_count": 69,
   "metadata": {
    "collapsed": false
   },
   "outputs": [],
   "source": [
    "total_pos = tf.reduce_sum(tf.cast(pos_mask, tf.int32))\n",
    "total_neg = tf.reduce_sum(tf.cast(neg_mask, tf.int32))"
   ]
  },
  {
   "cell_type": "code",
   "execution_count": 81,
   "metadata": {
    "collapsed": false
   },
   "outputs": [
    {
     "data": {
      "text/plain": [
       "256"
      ]
     },
     "execution_count": 81,
     "metadata": {},
     "output_type": "execute_result"
    }
   ],
   "source": [
    "num_neg"
   ]
  },
  {
   "cell_type": "code",
   "execution_count": 79,
   "metadata": {
    "collapsed": false
   },
   "outputs": [],
   "source": [
    "num_pos = min(batch_size / 2, total_pos.eval())\n",
    "num_neg = batch_size - num_pos"
   ]
  },
  {
   "cell_type": "code",
   "execution_count": 363,
   "metadata": {
    "collapsed": false
   },
   "outputs": [],
   "source": [
    "val = tf.boolean_mask(neg_mask, y_max_mask)"
   ]
  },
  {
   "cell_type": "code",
   "execution_count": 353,
   "metadata": {
    "collapsed": false
   },
   "outputs": [
    {
     "data": {
      "text/plain": [
       "array([], dtype=bool)"
      ]
     },
     "execution_count": 353,
     "metadata": {},
     "output_type": "execute_result"
    }
   ],
   "source": [
    "tf.boolean_mask(neg_mask, x_max_mask).eval()"
   ]
  },
  {
   "cell_type": "code",
   "execution_count": 95,
   "metadata": {
    "collapsed": false
   },
   "outputs": [
    {
     "data": {
      "text/plain": [
       "<tf.Tensor 'random_crop_5:0' shape=(256,) dtype=float32>"
      ]
     },
     "execution_count": 95,
     "metadata": {},
     "output_type": "execute_result"
    }
   ],
   "source": [
    "tf.random_crop(pos_mask_nonzero, [num_pos]).eval()\n",
    "tf.random_crop(neg_mask_nonzero, [num_neg]).eval()"
   ]
  },
  {
   "cell_type": "code",
   "execution_count": 92,
   "metadata": {
    "collapsed": true
   },
   "outputs": [],
   "source": [
    "data = tf.truncated_normal(shape=[300])"
   ]
  },
  {
   "cell_type": "code",
   "execution_count": null,
   "metadata": {
    "collapsed": false
   },
   "outputs": [],
   "source": [
    ""
   ]
  },
  {
   "cell_type": "code",
   "execution_count": 108,
   "metadata": {
    "collapsed": false
   },
   "outputs": [
    {
     "data": {
      "text/plain": [
       "<tf.Tensor 'strided_slice_57:0' shape=(1, 2) dtype=int64>"
      ]
     },
     "execution_count": 108,
     "metadata": {},
     "output_type": "execute_result"
    }
   ],
   "source": [
    "target_idx_cutted"
   ]
  },
  {
   "cell_type": "code",
   "execution_count": 39,
   "metadata": {
    "collapsed": false
   },
   "outputs": [],
   "source": [
    "#target_idx = tf.reshape(target_idx_cutted, [mask_shape.as_list()[1]])"
   ]
  },
  {
   "cell_type": "code",
   "execution_count": 23,
   "metadata": {
    "collapsed": false
   },
   "outputs": [
    {
     "data": {
      "text/plain": [
       "<tf.Tensor 'strided_slice_28:0' shape=(2,) dtype=int64>"
      ]
     },
     "execution_count": 23,
     "metadata": {},
     "output_type": "execute_result"
    }
   ],
   "source": [
    "target_idx_cutted"
   ]
  },
  {
   "cell_type": "code",
   "execution_count": 40,
   "metadata": {
    "collapsed": true
   },
   "outputs": [],
   "source": [
    ""
   ]
  },
  {
   "cell_type": "code",
   "execution_count": 25,
   "metadata": {
    "collapsed": false
   },
   "outputs": [
    {
     "name": "stdout",
     "output_type": "stream",
     "text": [
      "(2,)\n",
      "(2,)\n"
     ]
    }
   ],
   "source": [
    "print pos_mask.get_shape()\n",
    "print target_idx_cutted.get_shape()"
   ]
  },
  {
   "cell_type": "code",
   "execution_count": null,
   "metadata": {
    "collapsed": false
   },
   "outputs": [],
   "source": [
    ""
   ]
  },
  {
   "cell_type": "code",
   "execution_count": 540,
   "metadata": {
    "collapsed": false
   },
   "outputs": [
    {
     "data": {
      "text/plain": [
       "<tf.Tensor 'ScatterUpdate_25:0' shape=(3,) dtype=bool_ref>"
      ]
     },
     "execution_count": 540,
     "metadata": {},
     "output_type": "execute_result"
    }
   ],
   "source": [
    "tf.scatter_update(data, target_idx[0], [True, True, True])"
   ]
  },
  {
   "cell_type": "code",
   "execution_count": 44,
   "metadata": {
    "collapsed": false
   },
   "outputs": [],
   "source": [
    ""
   ]
  },
  {
   "cell_type": "code",
   "execution_count": 27,
   "metadata": {
    "collapsed": false
   },
   "outputs": [],
   "source": [
    "#target_idx_cutted.eval()\n",
    "#pos_mask_true.eval()"
   ]
  },
  {
   "cell_type": "code",
   "execution_count": 506,
   "metadata": {
    "collapsed": false
   },
   "outputs": [
    {
     "data": {
      "text/plain": [
       "2"
      ]
     },
     "execution_count": 506,
     "metadata": {},
     "output_type": "execute_result"
    }
   ],
   "source": [
    "tf.rank(target_idx).eval()"
   ]
  },
  {
   "cell_type": "code",
   "execution_count": 482,
   "metadata": {
    "collapsed": false
   },
   "outputs": [
    {
     "data": {
      "text/plain": [
       "TensorShape([Dimension(1), Dimension(2)])"
      ]
     },
     "execution_count": 482,
     "metadata": {},
     "output_type": "execute_result"
    }
   ],
   "source": [
    "pos_mask.get_shape()"
   ]
  },
  {
   "cell_type": "code",
   "execution_count": 483,
   "metadata": {
    "collapsed": false
   },
   "outputs": [
    {
     "data": {
      "text/plain": [
       "TensorShape([Dimension(1), Dimension(3)])"
      ]
     },
     "execution_count": 483,
     "metadata": {},
     "output_type": "execute_result"
    }
   ],
   "source": [
    "target_idx.get_shape()"
   ]
  },
  {
   "cell_type": "code",
   "execution_count": 383,
   "metadata": {
    "collapsed": false,
    "scrolled": true
   },
   "outputs": [
    {
     "data": {
      "text/plain": [
       "array([0], dtype=int32)"
      ]
     },
     "execution_count": 383,
     "metadata": {},
     "output_type": "execute_result"
    }
   ],
   "source": [
    "tf.cast(val, tf.int32).eval() * 0"
   ]
  },
  {
   "cell_type": "code",
   "execution_count": 392,
   "metadata": {
    "collapsed": false
   },
   "outputs": [
    {
     "data": {
      "text/plain": [
       "array([], shape=(0, 2), dtype=int64)"
      ]
     },
     "execution_count": 392,
     "metadata": {},
     "output_type": "execute_result"
    }
   ],
   "source": [
    "tf.where(boxes_x1y1x2y2[...,0] < x_min)"
   ]
  },
  {
   "cell_type": "code",
   "execution_count": 402,
   "metadata": {
    "collapsed": false
   },
   "outputs": [
    {
     "data": {
      "text/plain": [
       "array([[ True, False]], dtype=bool)"
      ]
     },
     "execution_count": 402,
     "metadata": {},
     "output_type": "execute_result"
    }
   ],
   "source": [
    "tf.select(y_max_mask, neg_mask_false, neg_mask).eval()"
   ]
  },
  {
   "cell_type": "code",
   "execution_count": 403,
   "metadata": {
    "collapsed": false
   },
   "outputs": [
    {
     "data": {
      "text/plain": [
       "array([[ True, False]], dtype=bool)"
      ]
     },
     "execution_count": 403,
     "metadata": {},
     "output_type": "execute_result"
    }
   ],
   "source": [
    "neg_mask.eval()"
   ]
  },
  {
   "cell_type": "code",
   "execution_count": 405,
   "metadata": {
    "collapsed": false
   },
   "outputs": [
    {
     "data": {
      "text/plain": [
       "array([[False, False]], dtype=bool)"
      ]
     },
     "execution_count": 405,
     "metadata": {},
     "output_type": "execute_result"
    }
   ],
   "source": [
    "neg_mask_false.eval()"
   ]
  },
  {
   "cell_type": "code",
   "execution_count": 356,
   "metadata": {
    "collapsed": false
   },
   "outputs": [
    {
     "data": {
      "text/plain": [
       "array([[ 1.5,  4.5]], dtype=float32)"
      ]
     },
     "execution_count": 356,
     "metadata": {},
     "output_type": "execute_result"
    }
   ],
   "source": [
    "boxes_x1y1x2y2[...,0].eval()"
   ]
  },
  {
   "cell_type": "code",
   "execution_count": 362,
   "metadata": {
    "collapsed": false
   },
   "outputs": [
    {
     "data": {
      "text/plain": [
       "array([[False, False]], dtype=bool)"
      ]
     },
     "execution_count": 362,
     "metadata": {},
     "output_type": "execute_result"
    }
   ],
   "source": [
    "x_min_mask.eval()"
   ]
  },
  {
   "cell_type": "code",
   "execution_count": 360,
   "metadata": {
    "collapsed": false
   },
   "outputs": [
    {
     "data": {
      "text/plain": [
       "array([[False, False]], dtype=bool)"
      ]
     },
     "execution_count": 360,
     "metadata": {},
     "output_type": "execute_result"
    }
   ],
   "source": [
    "tf.less(boxes_x1y1x2y2[...,0], x_min).eval()"
   ]
  },
  {
   "cell_type": "code",
   "execution_count": 96,
   "metadata": {
    "collapsed": false
   },
   "outputs": [],
   "source": [
    ""
   ]
  },
  {
   "cell_type": "code",
   "execution_count": null,
   "metadata": {
    "collapsed": false
   },
   "outputs": [],
   "source": [
    ""
   ]
  },
  {
   "cell_type": "code",
   "execution_count": null,
   "metadata": {
    "collapsed": false
   },
   "outputs": [],
   "source": [
    ""
   ]
  },
  {
   "cell_type": "code",
   "execution_count": 117,
   "metadata": {
    "collapsed": false
   },
   "outputs": [],
   "source": [
    ""
   ]
  },
  {
   "cell_type": "code",
   "execution_count": null,
   "metadata": {
    "collapsed": false
   },
   "outputs": [],
   "source": [
    ""
   ]
  },
  {
   "cell_type": "code",
   "execution_count": null,
   "metadata": {
    "collapsed": true
   },
   "outputs": [],
   "source": [
    ""
   ]
  }
 ],
 "metadata": {
  "anaconda-cloud": {},
  "kernelspec": {
   "display_name": "Python [conda env:tensorflow]",
   "language": "python",
   "name": "conda-env-tensorflow-py"
  },
  "language_info": {
   "codemirror_mode": {
    "name": "ipython",
    "version": 2.0
   },
   "file_extension": ".py",
   "mimetype": "text/x-python",
   "name": "python",
   "nbconvert_exporter": "python",
   "pygments_lexer": "ipython2",
   "version": "2.7.12"
  }
 },
 "nbformat": 4,
 "nbformat_minor": 0
}